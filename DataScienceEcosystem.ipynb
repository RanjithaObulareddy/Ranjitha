{
 "cells": [
  {
   "cell_type": "markdown",
   "id": "bdc45a33",
   "metadata": {},
   "source": [
    "# Data Science Tools and Ecosystem"
   ]
  },
  {
   "cell_type": "markdown",
   "id": "d3c0a8e1",
   "metadata": {},
   "source": [
    "## Author\n",
    "Venkata Ranjitha Obulareddy"
   ]
  },
  {
   "cell_type": "markdown",
   "id": "7a7175e5",
   "metadata": {},
   "source": [
    "## In this notebook, Data science tools and Ecosystems are summarized."
   ]
  },
  {
   "cell_type": "markdown",
   "id": "620fff99",
   "metadata": {},
   "source": [
    "### Objectives:\n",
    "\n",
    "- Listing popular languages for Data Science.\n",
    "- Identifying commonly used libraries in Data Science.\n",
    "- Introduction of arithmetic expression examples in Python.\n",
    "- Demonstrating basic arithmetic operations in code cells.\n",
    "- Providing an overview of the Data Science tools ecosystem.\n"
   ]
  },
  {
   "cell_type": "markdown",
   "id": "0a4b8893",
   "metadata": {},
   "source": [
    "Some of the popular languages that Data Scientists use are:\n",
    "\n",
    "    1.Python\n",
    "    2.R  \n",
    "    3.Scala  \n",
    "    4.Julia   \n",
    "    5.Java   \n",
    "    6.c++ "
   ]
  },
  {
   "cell_type": "markdown",
   "id": "f19cb4f5",
   "metadata": {},
   "source": [
    "Some of the commonly used libraries used by Data Scientists include:\n",
    "\n",
    "1. PyTorch\n",
    "2. Numpy\n",
    "3. Pandas\n",
    "4. Matplotlib\n",
    "5. vegas\n",
    "6. TensorFlow\n",
    "7. ggplot"
   ]
  },
  {
   "cell_type": "markdown",
   "id": "f1fbec65",
   "metadata": {},
   "source": [
    "#### Developement Envirnoment open-source tools for data science:\n",
    "\n",
    "|Data Science tools|\n",
    "|---------|\n",
    "|MySQL|\n",
    "|MongoDB|\n",
    "|mLeap|"
   ]
  },
  {
   "cell_type": "markdown",
   "id": "fefafaa9",
   "metadata": {},
   "source": [
    "### Below are a few examples of evaluating arithmetic expressions in Python"
   ]
  },
  {
   "cell_type": "code",
   "execution_count": 5,
   "id": "4b384a2e",
   "metadata": {},
   "outputs": [
    {
     "data": {
      "text/plain": [
       "17"
      ]
     },
     "execution_count": 5,
     "metadata": {},
     "output_type": "execute_result"
    }
   ],
   "source": [
    "# This a simple arithmetic expression to mutiply then add integers\n",
    "(3*4)+5"
   ]
  },
  {
   "cell_type": "code",
   "execution_count": 7,
   "id": "04c75463",
   "metadata": {},
   "outputs": [
    {
     "data": {
      "text/plain": [
       "3.3333333333333335"
      ]
     },
     "execution_count": 7,
     "metadata": {},
     "output_type": "execute_result"
    }
   ],
   "source": [
    "# This will convert 200 minutes to hours by diving by 60\n",
    "200/60"
   ]
  },
  {
   "cell_type": "code",
   "execution_count": null,
   "id": "fc66c405",
   "metadata": {},
   "outputs": [],
   "source": []
  }
 ],
 "metadata": {
  "kernelspec": {
   "display_name": "Python 3 (ipykernel)",
   "language": "python",
   "name": "python3"
  },
  "language_info": {
   "codemirror_mode": {
    "name": "ipython",
    "version": 3
   },
   "file_extension": ".py",
   "mimetype": "text/x-python",
   "name": "python",
   "nbconvert_exporter": "python",
   "pygments_lexer": "ipython3",
   "version": "3.11.5"
  }
 },
 "nbformat": 4,
 "nbformat_minor": 5
}
